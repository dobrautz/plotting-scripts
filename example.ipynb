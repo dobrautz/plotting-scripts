{
 "cells": [
  {
   "cell_type": "code",
   "execution_count": 11,
   "metadata": {},
   "outputs": [],
   "source": [
    "# Standard Imports:\n",
    "import numpy as np\n",
    "import matplotlib.pyplot as plt\n",
    "\n",
    "# Seaborn IMO provides on of the best styles out there\n",
    "import seaborn as sns\n",
    "\n",
    "# customly written by me (Werner Dobrautz)\n",
    "# sets some style default (font type, colorscheme)\n",
    "# and most importantly provides the function: set_fontsize_and_get_fig_width\n",
    "# this sets correct figure font sizes for x- and y-labels and ticks \n",
    "# and gives the correct width of the figure depending on how many columns the \n",
    "# paper has, e.g.: \n",
    "# width = set_fontsize_and_get_fig_width('usletter')\n",
    "# uses usletter paper size (for JCTC e.g.)\n",
    "# have a look at it \n",
    "# PS: I might have to rename it as apparently there is a name-clash with another \n",
    "# python package..\n",
    "from style import *\n",
    "\n",
    "# enabling inline plots in a jupyter notebook:\n",
    "%matplotlib inline"
   ]
  },
  {
   "cell_type": "code",
   "execution_count": 6,
   "metadata": {},
   "outputs": [],
   "source": [
    "# defininig some marker- and linestyles for plots\n",
    "\n",
    "marker = ['o','s','d','^']\n",
    "ls = ['-','--','-.',':']\n"
   ]
  },
  {
   "cell_type": "code",
   "execution_count": 9,
   "metadata": {},
   "outputs": [
    {
     "data": {
      "text/html": [
       "<svg  width=\"550\" height=\"55\"><rect x=\"0\" y=\"0\" width=\"55\" height=\"55\" style=\"fill:#1f77b4;stroke-width:2;stroke:rgb(255,255,255)\"/><rect x=\"55\" y=\"0\" width=\"55\" height=\"55\" style=\"fill:#ff7f0e;stroke-width:2;stroke:rgb(255,255,255)\"/><rect x=\"110\" y=\"0\" width=\"55\" height=\"55\" style=\"fill:#2ca02c;stroke-width:2;stroke:rgb(255,255,255)\"/><rect x=\"165\" y=\"0\" width=\"55\" height=\"55\" style=\"fill:#d62728;stroke-width:2;stroke:rgb(255,255,255)\"/><rect x=\"220\" y=\"0\" width=\"55\" height=\"55\" style=\"fill:#9467bd;stroke-width:2;stroke:rgb(255,255,255)\"/><rect x=\"275\" y=\"0\" width=\"55\" height=\"55\" style=\"fill:#8c564b;stroke-width:2;stroke:rgb(255,255,255)\"/><rect x=\"330\" y=\"0\" width=\"55\" height=\"55\" style=\"fill:#e377c2;stroke-width:2;stroke:rgb(255,255,255)\"/><rect x=\"385\" y=\"0\" width=\"55\" height=\"55\" style=\"fill:#7f7f7f;stroke-width:2;stroke:rgb(255,255,255)\"/><rect x=\"440\" y=\"0\" width=\"55\" height=\"55\" style=\"fill:#bcbd22;stroke-width:2;stroke:rgb(255,255,255)\"/><rect x=\"495\" y=\"0\" width=\"55\" height=\"55\" style=\"fill:#17becf;stroke-width:2;stroke:rgb(255,255,255)\"/></svg>"
      ],
      "text/plain": [
       "[(0.12156862745098039, 0.4666666666666667, 0.7058823529411765),\n",
       " (1.0, 0.4980392156862745, 0.054901960784313725),\n",
       " (0.17254901960784313, 0.6274509803921569, 0.17254901960784313),\n",
       " (0.8392156862745098, 0.15294117647058825, 0.1568627450980392),\n",
       " (0.5803921568627451, 0.403921568627451, 0.7411764705882353),\n",
       " (0.5490196078431373, 0.33725490196078434, 0.29411764705882354),\n",
       " (0.8901960784313725, 0.4666666666666667, 0.7607843137254902),\n",
       " (0.4980392156862745, 0.4980392156862745, 0.4980392156862745),\n",
       " (0.7372549019607844, 0.7411764705882353, 0.13333333333333333),\n",
       " (0.09019607843137255, 0.7450980392156863, 0.8117647058823529)]"
      ]
     },
     "execution_count": 9,
     "metadata": {},
     "output_type": "execute_result"
    }
   ],
   "source": [
    "# also loading the default seaborn color palette\n",
    "# IMO one of the best out there and thoroughly studied\n",
    "pal = sns.color_palette()\n",
    "sns.color_palette()\n"
   ]
  },
  {
   "cell_type": "code",
   "execution_count": 17,
   "metadata": {},
   "outputs": [],
   "source": [
    "# load some test data\n",
    "data_a = np.loadtxt('example-data/set-A', unpack=True)\n",
    "data_b = np.loadtxt('example-data/set-B', unpack=True)\n",
    "ref = np.loadtxt('example-data/reference')"
   ]
  },
  {
   "cell_type": "code",
   "execution_count": 29,
   "metadata": {},
   "outputs": [
    {
     "data": {
      "image/png": "[encoded data removed]",
      "text/plain": [
       "<Figure size 252x201.6 with 1 Axes>"
      ]
     },
     "metadata": {
      "needs_background": "light"
     },
     "output_type": "display_data"
    }
   ],
   "source": [
    "width_ratio = 0.5\n",
    "# use some ratio to make width a bit smaller (tunable for ones needs)\n",
    "fig_width = width_ratio * set_fontsize_and_get_fig_width('usletter')\n",
    "\n",
    "# use a ratio to define the width/height ratio of the figure (tunable for ones needs)\n",
    "fig_ratio = 0.8\n",
    "fig_height = fig_ratio * fig_width\n",
    "fig_size = (fig_width, fig_height)\n",
    "\n",
    "# create a figure (fig) with 1 axis (ax) of the desired size (figsize)\n",
    "fig, ax = plt.subplots(1, figsize = fig_size)\n",
    "\n",
    "# plot the data\n",
    "ax.plot(data_a[0], data_a[1]-ref, ls=ls[0], marker=marker[0], label='Data A')\n",
    "ax.plot(data_b[0], data_b[1]-ref, ls=ls[1], marker=marker[2], label='Data B')\n",
    "\n",
    "ax.legend()\n",
    "\n",
    "ax.set_xlabel('X label')\n",
    "# also latex math possible with \"raw strings\": r'desired string'\n",
    "ax.set_ylabel(r'desired string $\\alpha, \\beta, \\sum$')\n",
    "\n",
    "# create a filled area indicating chemical accuracy (alpha controls the opacity)\n",
    "ax.fill_between([1,5],y1=[-0.001,-0.001], y2=[0.001,0.001], color = 'k', alpha = 0.3)\n",
    "\n",
    "# restrict x-axis again to the data:\n",
    "ax.set_xlim([1.9,4.1])\n",
    "\n",
    "# 'tight' layout of the figure (removes unnecessary whitespace)\n",
    "fig.tight_layout()\n",
    "\n",
    "# save in desired format:\n",
    "# i like the additional: bbox_inches='tight' option (makes it even tighter)\n",
    "# and the transparent=True for e.g. presentations with a different \n",
    "# background color\n",
    "\n",
    "fig.savefig('example.pdf', bbox_inches='tight', transparent=True)"
   ]
  },
  {
   "cell_type": "code",
   "execution_count": null,
   "metadata": {},
   "outputs": [],
   "source": []
  }
 ],
 "metadata": {
  "kernelspec": {
   "display_name": "Python 3",
   "language": "python",
   "name": "python3"
  },
  "language_info": {
   "codemirror_mode": {
    "name": "ipython",
    "version": 3
   },
   "file_extension": ".py",
   "mimetype": "text/x-python",
   "name": "python",
   "nbconvert_exporter": "python",
   "pygments_lexer": "ipython3",
   "version": "3.8.10"
  }
 },
 "nbformat": 4,
 "nbformat_minor": 4
}
